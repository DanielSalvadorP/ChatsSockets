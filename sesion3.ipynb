{
  "nbformat": 4,
  "nbformat_minor": 0,
  "metadata": {
    "colab": {
      "provenance": [],
      "authorship_tag": "ABX9TyPNJ6QMgQzGzjvnLmB0QVja",
      "include_colab_link": true
    },
    "kernelspec": {
      "name": "python3",
      "display_name": "Python 3"
    },
    "language_info": {
      "name": "python"
    }
  },
  "cells": [
    {
      "cell_type": "markdown",
      "metadata": {
        "id": "view-in-github",
        "colab_type": "text"
      },
      "source": [
        "<a href=\"https://colab.research.google.com/github/DanielSalvadorP/ChatsSockets/blob/main/sesion3.ipynb\" target=\"_parent\"><img src=\"https://colab.research.google.com/assets/colab-badge.svg\" alt=\"Open In Colab\"/></a>"
      ]
    },
    {
      "cell_type": "markdown",
      "source": [],
      "metadata": {
        "id": "f7HPJQm1n6Hn"
      }
    },
    {
      "cell_type": "code",
      "execution_count": null,
      "metadata": {
        "colab": {
          "base_uri": "https://localhost:8080/"
        },
        "id": "MtRwW0rznSEn",
        "outputId": "97a44b29-6e65-4bbc-cd54-e19d7683c080"
      },
      "outputs": [
        {
          "output_type": "execute_result",
          "data": {
            "text/plain": [
              "Municipio\n",
              "SAN BERNARDO    0.870968\n",
              "EL CHARCO       0.838235\n",
              "SANDONA         0.780749\n",
              "OSPINA          0.696429\n",
              "SANTACRUZ       0.696296\n",
              "BUESACO         0.682243\n",
              "ILES            0.640000\n",
              "LA CRUZ         0.609756\n",
              "CUMBITARA       0.570175\n",
              "LA UNION        0.555556\n",
              "IMUES           0.541176\n",
              "EL TAMBO        0.530435\n",
              "IPIALES         0.526882\n",
              "POTOSI          0.500000\n",
              "PUERRES         0.476190\n",
              "PASTO           0.437956\n",
              "MOSQUERA        0.400000\n",
              "BARBACOAS       0.381703\n",
              "TAMINANGO       0.376543\n",
              "CHACHAGUI       0.304348\n",
              "RICAURTE        0.245098\n",
              "TUMACO          0.191824\n",
              "Name: Consumo de leña (kg/mes), dtype: float64"
            ]
          },
          "metadata": {},
          "execution_count": 12
        }
      ],
      "source": [
        "import numpy as np\n",
        "import pandas as pd\n",
        "data = pd.read_csv('P48 consumo luna.csv',sep = ',',encoding = 'latin1')\n",
        "data\n",
        "totalmunicipios=data.groupby(['Municipio'])['Consumo de leña (kg/mes)'].count()\n",
        "totalmunicipios\n",
        "datos_a_elegir=data[\"Consumo de leña (kg/mes)\"]!=0\n",
        "data1 = data[datos_a_elegir]\n",
        "totalmunicipioslena=data1.groupby(['Municipio'])['Consumo de leña (kg/mes)'].count()\n",
        "totalmunicipioslena\n",
        "porcentajeusolena=(totalmunicipioslena/totalmunicipios)\n",
        "porcentajeusolena=(totalmunicipioslena/totalmunicipios).sort_values(ascending=True)\n",
        "porcentajeusolena=(totalmunicipioslena/totalmunicipios).sort_values(ascending=False)\n",
        "porcentajeusolena"
      ]
    },
    {
      "cell_type": "code",
      "source": [],
      "metadata": {
        "colab": {
          "base_uri": "https://localhost:8080/",
          "height": 184
        },
        "id": "EhS_eWx9nWHP",
        "outputId": "f458534d-43ce-434c-a8a2-e28570453cf8"
      },
      "execution_count": null,
      "outputs": [
        {
          "output_type": "error",
          "ename": "NameError",
          "evalue": "ignored",
          "traceback": [
            "\u001b[0;31m---------------------------------------------------------------------------\u001b[0m",
            "\u001b[0;31mNameError\u001b[0m                                 Traceback (most recent call last)",
            "\u001b[0;32m<ipython-input-7-9bc37c0bcbe1>\u001b[0m in \u001b[0;36m<module>\u001b[0;34m\u001b[0m\n\u001b[0;32m----> 1\u001b[0;31m \u001b[0mdata\u001b[0m \u001b[0;34m=\u001b[0m \u001b[0mpd\u001b[0m\u001b[0;34m.\u001b[0m\u001b[0mread_csv\u001b[0m\u001b[0;34m(\u001b[0m\u001b[0;34m'P48 consumo luna.csv'\u001b[0m\u001b[0;34m,\u001b[0m\u001b[0msep\u001b[0m \u001b[0;34m=\u001b[0m \u001b[0;34m','\u001b[0m\u001b[0;34m,\u001b[0m\u001b[0mencoding\u001b[0m \u001b[0;34m=\u001b[0m \u001b[0;34m'latin1'\u001b[0m\u001b[0;34m)\u001b[0m\u001b[0;34m\u001b[0m\u001b[0;34m\u001b[0m\u001b[0m\n\u001b[0m\u001b[1;32m      2\u001b[0m \u001b[0mdata\u001b[0m\u001b[0;34m\u001b[0m\u001b[0;34m\u001b[0m\u001b[0m\n",
            "\u001b[0;31mNameError\u001b[0m: name 'pd' is not defined"
          ]
        }
      ]
    }
  ]
}