{
  "nbformat": 4,
  "nbformat_minor": 0,
  "metadata": {
    "colab": {
      "provenance": [],
      "authorship_tag": "ABX9TyMxxXAz936JXtZYUiLwo9Lv",
      "include_colab_link": true
    },
    "kernelspec": {
      "name": "python3",
      "display_name": "Python 3"
    },
    "language_info": {
      "name": "python"
    }
  },
  "cells": [
    {
      "cell_type": "markdown",
      "metadata": {
        "id": "view-in-github",
        "colab_type": "text"
      },
      "source": [
        "<a href=\"https://colab.research.google.com/github/DanielSalvadorP/ChatsSockets/blob/main/Parcial.ipynb\" target=\"_parent\"><img src=\"https://colab.research.google.com/assets/colab-badge.svg\" alt=\"Open In Colab\"/></a>"
      ]
    },
    {
      "cell_type": "code",
      "execution_count": 25,
      "metadata": {
        "colab": {
          "base_uri": "https://localhost:8080/",
          "height": 1000
        },
        "id": "16U30yeGMRlv",
        "outputId": "d1b77998-7ed0-488b-9ba4-e1a41a379b66"
      },
      "outputs": [
        {
          "output_type": "stream",
          "name": "stdout",
          "text": [
            "número de registros 1338\n",
            "   age     sex     bmi  children smoker     region      charges\n",
            "0   19  female  27.900         0    yes  southwest  16884.92400\n",
            "1   18    male  33.770         1     no  southeast   1725.55230\n",
            "2   28    male  33.000         3     no  southeast   4449.46200\n",
            "3   33    male  22.705         0     no  northwest  21984.47061\n",
            "4   32    male  28.880         0     no  northwest   3866.85520\n",
            "<class 'pandas.core.frame.DataFrame'>\n",
            "RangeIndex: 1338 entries, 0 to 1337\n",
            "Data columns (total 7 columns):\n",
            " #   Column    Non-Null Count  Dtype  \n",
            "---  ------    --------------  -----  \n",
            " 0   age       1338 non-null   int64  \n",
            " 1   sex       1338 non-null   object \n",
            " 2   bmi       1338 non-null   float64\n",
            " 3   children  1338 non-null   int64  \n",
            " 4   smoker    1338 non-null   object \n",
            " 5   region    1338 non-null   object \n",
            " 6   charges   1338 non-null   float64\n",
            "dtypes: float64(2), int64(2), object(3)\n",
            "memory usage: 73.3+ KB\n",
            "El número total de datos después de eliminar las filas con valores faltantes es: 1338\n",
            "age         0\n",
            "sex         0\n",
            "bmi         0\n",
            "children    0\n",
            "smoker      0\n",
            "region      0\n",
            "charges     0\n",
            "dtype: int64\n",
            "0         16884,924\n",
            "1         1725,5523\n",
            "2          4449,462\n",
            "3       21984,47061\n",
            "4         3866,8552\n",
            "           ...     \n",
            "1333     10600,5483\n",
            "1334      2205,9808\n",
            "1335      1629,8335\n",
            "1336       2007,945\n",
            "1337     29141,3603\n",
            "Name: charges, Length: 1338, dtype: object\n",
            "0         27,9\n",
            "1        33,77\n",
            "2         33,0\n",
            "3       22,705\n",
            "4        28,88\n",
            "         ...  \n",
            "1333     30,97\n",
            "1334     31,92\n",
            "1335     36,85\n",
            "1336      25,8\n",
            "1337     29,07\n",
            "Name: bmi, Length: 1338, dtype: object\n",
            "sex\n",
            "male      0.51\n",
            "female    0.49\n",
            "dtype: float64\n",
            "Podemos encontrar con el grafico y porcentaje de sexos, que en su mayoría, \n",
            "las personas registrada en la base de datos son varones con una superioridad en registros del 1%.\n",
            "Teniendo así, un porcentaje de varones del 0.51% y de mujeres del 0.49%.\n",
            "children\n",
            "0    0.43\n",
            "1    0.24\n",
            "2    0.18\n",
            "3    0.12\n",
            "4    0.02\n",
            "5    0.01\n",
            "dtype: float64\n"
          ]
        },
        {
          "output_type": "stream",
          "name": "stderr",
          "text": [
            "/usr/local/lib/python3.7/dist-packages/ipykernel_launcher.py:40: FutureWarning: The default value of regex will change from True to False in a future version. In addition, single character regular expressions will *not* be treated as literal strings when regex=True.\n",
            "/usr/local/lib/python3.7/dist-packages/ipykernel_launcher.py:42: FutureWarning: The default value of regex will change from True to False in a future version. In addition, single character regular expressions will *not* be treated as literal strings when regex=True.\n"
          ]
        },
        {
          "output_type": "execute_result",
          "data": {
            "text/plain": [
              "'\\n\\n'"
            ],
            "application/vnd.google.colaboratory.intrinsic+json": {
              "type": "string"
            }
          },
          "metadata": {},
          "execution_count": 25
        },
        {
          "output_type": "display_data",
          "data": {
            "text/plain": [
              "<Figure size 468x180 with 1 Axes>"
            ],
            "image/png": "[encoded data removed]"
          },
          "metadata": {}
        },
        {
          "output_type": "display_data",
          "data": {
            "text/plain": [
              "<Figure size 468x180 with 1 Axes>"
            ],
            "image/png": "[encoded data removed]"
          },
          "metadata": {}
        }
      ],
      "source": [
        "import numpy as np\n",
        "import pandas as pd\n",
        "import datetime\n",
        "import matplotlib\n",
        "import matplotlib.pyplot as plt\n",
        "from matplotlib import colors\n",
        "import seaborn as sns\n",
        "from sklearn.preprocessing import LabelEncoder\n",
        "from sklearn.preprocessing import StandardScaler\n",
        "from sklearn.decomposition import PCA\n",
        "from yellowbrick.cluster import KElbowVisualizer\n",
        "from sklearn.cluster import KMeans\n",
        "import matplotlib.pyplot as plt, numpy as np\n",
        "from mpl_toolkits.mplot3d import Axes3D\n",
        "from sklearn.cluster import AgglomerativeClustering\n",
        "from matplotlib.colors import ListedColormap\n",
        "from sklearn import metrics\n",
        "import warnings\n",
        "\n",
        "#Carga de datos\n",
        "data=pd.read_csv('insurance.csv')#,sep=\"\\t\"\n",
        "\n",
        "#Numero de registros\n",
        "print(\"número de registros\",len(data))\n",
        "\n",
        "#Miramos las columnas y datos que tienen\n",
        "print(data.head())\n",
        "\n",
        "#Miramos la información del tipo de datos que tienen las columnas\n",
        "data.info()\n",
        "\n",
        "#Eliminamos valores nulos\n",
        "data= data.dropna()\n",
        "print(\"El número total de datos después de eliminar las filas con valores faltantes es:\", len(data))\n",
        "\n",
        "#Revisamos cuantos valores nulos hay\n",
        "print(data.isnull().sum())\n",
        "print(\"Encontramos que dentro de la base de datos, no tenemos valores nulos los cuales reemplazar o eliminar.\")\n",
        "\n",
        "#Reformateamos los datos de los valores decimales de punto decimal a coma decimal en el estandar latino.\n",
        "columna_charges= data['charges'].astype(str).str.replace('.', ',')\n",
        "print(columna_charges)\n",
        "columna_bmi= data['bmi'].astype(str).str.replace('.', ',')\n",
        "print(columna_bmi)\n",
        "\n",
        "#Porcentaje de sexos\n",
        "b=data.value_counts(data['sex'])\n",
        "b\n",
        "y=len(data)\n",
        "r=((b/y)).round(2)\n",
        "print(r)\n",
        "\n",
        "#Graficando porcentaje de sexos\n",
        "sex_ratio = pd.DataFrame(r).T\n",
        "\n",
        "fig, ax = plt.subplots(1,1,figsize=(6.5, 2.5))\n",
        " \n",
        "ax.barh(sex_ratio.index, sex_ratio['male'], \n",
        "        color='#b22710', alpha=0.9, label='male')\n",
        "ax.barh(sex_ratio.index, sex_ratio['female'], left=sex_ratio['male'], \n",
        "        color='#2C577D', alpha=0.9, label='male')\n",
        "\n",
        "#Explicación grafica de sexos\n",
        "print(f\"\"\"Podemos encontrar con el grafico y porcentaje de sexos, que en su mayoría, \n",
        "las personas registrada en la base de datos son varones con una superioridad en registros del 1%.\n",
        "Teniendo así, un porcentaje de varones del {float(sex_ratio['male'])}% y de mujeres del {float(sex_ratio['female'])}%.\"\"\")\n",
        "\n",
        "#Porcentaje de hijos que tienen las personas\n",
        "d=data.value_counts(data['children'])\n",
        "d\n",
        "f=len(data)\n",
        "t=((d/f)).round(2)\n",
        "print(t)\n",
        "#Graficando porcentaje de sexos\n",
        "children_ratio = pd.DataFrame(t).T\n",
        "\n",
        "fig, ax = plt.subplots(1,1,figsize=(6.5, 2.5))\n",
        " \n",
        "ax.barh(children_ratio.index, children_ratio[int('0')], \n",
        "        color='#b22710', alpha=0.9, label='0')\n",
        "ax.barh(children_ratio.index, children_ratio[int('1')], left=children_ratio[int('0')], \n",
        "        color='#2C577D', alpha=0.9, label='1')\n",
        "ax.barh(children_ratio.index, children_ratio[int('2')], left=children_ratio[int('0')]+children_ratio[int('1')], \n",
        "        color='#4283BD', alpha=0.9, label='2')\n",
        "ax.barh(children_ratio.index, children_ratio[int('3')], left=children_ratio[int('0')]+children_ratio[int('1')]+children_ratio[int('2')], \n",
        "        color='#FC0A16', alpha=0.9, label='3')\n",
        "ax.barh(children_ratio.index, children_ratio[int('4')], left=children_ratio[int('0')]+children_ratio[int('1')]+children_ratio[int('2')]+children_ratio[int('3')], \n",
        "        color='#3D0205', alpha=0.9, label='4')\n",
        "ax.barh(children_ratio.index, children_ratio[int('5')], left=children_ratio[int('0')]+children_ratio[int('1')]+children_ratio[int('2')]+children_ratio[int('3')]+children_ratio[int('4')], \n",
        "        color='#9D0705', alpha=0.9, label='5')\n",
        "#Explicaicón grafica de hijos\n",
        "print(\"\"\"Con los datos de los hijos, encontramos que la mayoría de las personas registradas en la base de datos,\n",
        "tienen 1 o más hijos, teniendo en cuenta como datos individuales, son más las personas que están en el grupo\n",
        "de los que no tienen hijos a los que tienen 1, como a su vez, son más los que tienen 1 que los que tienen 2,\n",
        "3 o 4, siendo 5 la cantidad que menos personas tienen en decendencia.\"\"\")\n",
        "\"\"\"\n",
        "\n",
        "\"\"\""
      ]
    }
  ]
}