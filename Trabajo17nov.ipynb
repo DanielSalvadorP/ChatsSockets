{
  "nbformat": 4,
  "nbformat_minor": 0,
  "metadata": {
    "colab": {
      "provenance": [],
      "authorship_tag": "ABX9TyNBbbG6ZUmurYUFjonBSG7o",
      "include_colab_link": true
    },
    "kernelspec": {
      "name": "python3",
      "display_name": "Python 3"
    },
    "language_info": {
      "name": "python"
    }
  },
  "cells": [
    {
      "cell_type": "markdown",
      "metadata": {
        "id": "view-in-github",
        "colab_type": "text"
      },
      "source": [
        "<a href=\"https://colab.research.google.com/github/DanielSalvadorP/ChatsSockets/blob/main/Trabajo17nov.ipynb\" target=\"_parent\"><img src=\"https://colab.research.google.com/assets/colab-badge.svg\" alt=\"Open In Colab\"/></a>"
      ]
    },
    {
      "cell_type": "code",
      "execution_count": null,
      "metadata": {
        "colab": {
          "base_uri": "https://localhost:8080/",
          "height": 728
        },
        "id": "4c-kO8NGfeTs",
        "outputId": "f9e82a15-aea1-4410-de66-7d1ef0cc8085"
      },
      "outputs": [
        {
          "output_type": "display_data",
          "data": {
            "text/html": [
              "        <script type=\"text/javascript\">\n",
              "        window.PlotlyConfig = {MathJaxConfig: 'local'};\n",
              "        if (window.MathJax) {MathJax.Hub.Config({SVG: {font: \"STIX-Web\"}});}\n",
              "        if (typeof require !== 'undefined') {\n",
              "        require.undef(\"plotly\");\n",
              "        requirejs.config({\n",
              "            paths: {\n",
              "                'plotly': ['https://cdn.plot.ly/plotly-2.8.3.min']\n",
              "            }\n",
              "        });\n",
              "        require(['plotly'], function(Plotly) {\n",
              "            window._Plotly = Plotly;\n",
              "        });\n",
              "        }\n",
              "        </script>\n",
              "        "
            ]
          },
          "metadata": {}
        },
        {
          "output_type": "stream",
          "name": "stdout",
          "text": [
            "0          Ingenieria de Sistemas\n",
            "1          Ingenieria de Sistemas\n",
            "2          Ingenieria de Sistemas\n",
            "3     Administración de empresas \n",
            "4           Ingenieria Ambiental \n",
            "5            Ingenieria ambiental\n",
            "6          Ingenieria de sistemas\n",
            "7          Ingenieria industrial \n",
            "8          Ingenieria de sistemas\n",
            "9            Ingenieria Ambiental\n",
            "10         Ingenieria industrial \n",
            "11            Ingenieria quimica \n",
            "12             Ingenieria quimica\n",
            "Name: Carrera, dtype: object\n"
          ]
        },
        {
          "output_type": "display_data",
          "data": {
            "text/plain": [
              "<Figure size 288x72 with 1 Axes>"
            ],
            "image/png": "[encoded data removed]"
          },
          "metadata": {
            "needs_background": "light"
          }
        },
        {
          "output_type": "error",
          "ename": "TypeError",
          "evalue": "ignored",
          "traceback": [
            "\u001b[0;31m---------------------------------------------------------------------------\u001b[0m",
            "\u001b[0;31mTypeError\u001b[0m                                 Traceback (most recent call last)",
            "\u001b[0;32mpandas/_libs/hashtable_class_helper.pxi\u001b[0m in \u001b[0;36mpandas._libs.hashtable.PyObjectHashTable.map_locations\u001b[0;34m()\u001b[0m\n",
            "\u001b[0;31mTypeError\u001b[0m: unhashable type: 'list'"
          ]
        },
        {
          "output_type": "stream",
          "name": "stderr",
          "text": [
            "Exception ignored in: 'pandas._libs.index.IndexEngine._call_map_locations'\n",
            "Traceback (most recent call last):\n",
            "  File \"pandas/_libs/hashtable_class_helper.pxi\", line 5231, in pandas._libs.hashtable.PyObjectHashTable.map_locations\n",
            "TypeError: unhashable type: 'list'\n"
          ]
        },
        {
          "output_type": "display_data",
          "data": {
            "text/plain": [
              "<Figure size 468x180 with 1 Axes>"
            ],
            "image/png": "[encoded data removed]"
          },
          "metadata": {
            "needs_background": "light"
          }
        }
      ],
      "source": [
        "import pandas as pd\n",
        "import numpy as np\n",
        "from sklearn.preprocessing import StandardScaler\n",
        "from sklearn.cluster import KMeans, AffinityPropagation\n",
        "import matplotlib.pyplot as plt\n",
        "import seaborn as sns\n",
        "%matplotlib inline\n",
        "import warnings\n",
        "warnings.filterwarnings(\"ignore\")\n",
        "import plotly as py\n",
        "import plotly.graph_objs as go\n",
        "import os\n",
        "py.offline.init_notebook_mode(connected = True)\n",
        "#print(os.listdir(\"../input\"))\n",
        "import datetime as dt\n",
        "df=pd.read_csv('Participantes - Grupo IO tarde - Hoja 1.csv')\n",
        "\n",
        "print(df['Carrera'])\n",
        "# Palette\n",
        "sns.palplot(['#221f1f', '#b20710', '#e50914','#f5f5f1'])\n",
        " \n",
        "plt.title(\"Netflix brand palette \",loc='left',fontfamily='serif',fontsize=15,y=1.2)\n",
        "plt.show()\n",
        "#Movie & TV Show distribution\n",
        " \n",
        "\n",
        "for i in range(len(df['Carrera'])):\n",
        "  if df['Carrera'][i]==df['Carrera'][0] or df['Carrera'][i]==df['Carrera'][4] :\n",
        "    df['Carrera'][i]=['Ingeniería Ambiental ']\n",
        "  if df['Carrera'][i]==df['Carrera'][0] or df['Carrera'][i]==df['Carrera'][4] :\n",
        "    df['Carrera'][i]=['Ingenieria de sistemas']\n",
        "  if df['Carrera'][i]==df['Carrera'][0] or df['Carrera'][i]==df['Carrera'][4] :\n",
        "    df['Carrera'][i]=['Ingenieria industrial']\n",
        "  if df['Carrera'][i]==df['Carrera'][0] or df['Carrera'][i]==df['Carrera'][4] :\n",
        "    df['Carrera'][i]=['Ingenieria quimica']\n",
        "  if df['Carrera'][i]==df['Carrera'][0] or df['Carrera'][i]==df['Carrera'][4] :\n",
        "    df['Carrera'][i]=['Ingenieria de Sistemas']\n",
        "\n",
        "b=pd.value_counts(df['Carrera'])\n",
        "b\n",
        "y=len(df)\n",
        "r=((b/y)).round(2)\n",
        " \n",
        "mf_ratio = pd.DataFrame(r).T\n",
        "\n",
        "fig, ax = plt.subplots(1,1,figsize=(6.5, 2.5))\n",
        " \n",
        "ax.barh(mf_ratio.index, mf_ratio['Ingenieria de sistemas'], \n",
        "        color='#b22710', alpha=0.9, label='Ingenieria de sistemas')\n",
        "ax.barh(mf_ratio.index, mf_ratio['Ingenieria industrial '], left=mf_ratio['Ingenieria de Sistemas'], \n",
        "        color='#2C577D', alpha=0.9, label='Ingenieria industrial')\n",
        "ax.barh(mf_ratio.index, mf_ratio['Ingenieria quimica '], left=mf_ratio['Ingenieria de Sistemas']+mf_ratio['Ingenieria industrial '], \n",
        "        color='#4283BD', alpha=0.9, label='Ingenieria quimica')\n",
        "ax.barh(mf_ratio.index, mf_ratio['Ingenieria Ambiental'], left=mf_ratio['Ingenieria de Sistemas']+mf_ratio['Ingenieria industrial ']+mf_ratio['Ingenieria quimica '], \n",
        "        color='#FC0A16', alpha=0.9, label='Ingenieria Ambiental')\n",
        "ax.barh(mf_ratio.index, mf_ratio['Ingenieria de Sistemas'], left=mf_ratio['Ingenieria de Sistemas']+mf_ratio['Ingenieria industrial ']+mf_ratio['Ingenieria quimica ']+mf_ratio['Ingenieria Ambiental'], \n",
        "        color='#3D0205', alpha=0.9, label='Ingenieria de Sistemas')\n",
        "\n",
        "\n",
        "\n",
        "# movie percentage\n",
        "for i in mf_ratio.index:\n",
        "    ax.annotate(f\"{int(mf_ratio['Ingenieria de sistemas'][i]*100)}%\", \n",
        "                   xy=(mf_ratio['Ingenieria de sistemas'][i]/2, i),\n",
        "                   va = 'center', ha='center',fontsize=20, fontweight='light', fontfamily='serif',\n",
        "                   color='white')\n",
        " \n",
        "    ax.annotate(\"Ingenieria de sistemas\", \n",
        "                   xy=(mf_ratio['Ingenieria de sistemas'][i]/2, -0.25),\n",
        "                   va = 'center', ha='center',fontsize=8, fontweight='light', fontfamily='serif',\n",
        "                   color='white')\n",
        "for i in mf_ratio.index:\n",
        "    ax.annotate(f\"{int(mf_ratio['Ingenieria industrial '][i]*100)}%\", \n",
        "                   xy=(mf_ratio['Ingenieria de sistemas'][i]+mf_ratio['Ingenieria industrial '][i]/2, i),\n",
        "                   va = 'center', ha='center',fontsize=20, fontweight='light', fontfamily='serif',\n",
        "                   color='white')\n",
        "    ax.annotate(\"Ingenieria industriall\", \n",
        "                   xy=(mf_ratio['Ingenieria de sistemas'][i]+mf_ratio['Ingenieria industrial '][i]/2, -0.25),\n",
        "                   va = 'center', ha='center',fontsize=8, fontweight='light', fontfamily='serif',\n",
        "                   color='white')\n",
        "for i in mf_ratio.index:\n",
        "    ax.annotate(f\"{int(mf_ratio['Ingenieria quimica'][i]*100)}%\", \n",
        "                   xy=(mf_ratio['Ingenieria de sistemas'][i]+mf_ratio['Ingenieria industrial '][i]+mf_ratio['Ingenieria quimica'][i]/2, i),\n",
        "                   va = 'center', ha='center',fontsize=20, fontweight='light', fontfamily='serif',\n",
        "                   color='white')\n",
        "    ax.annotate(\"Ingenieria quimica\", \n",
        "                   xy=(mf_ratio['Ingenieria de sistemas'][i]+mf_ratio['Ingenieria industrial '][i]+mf_ratio['Ingenieria quimica'][i]/2, -0.25),\n",
        "                   va = 'center', ha='center',fontsize=8, fontweight='light', fontfamily='serif',\n",
        "                   color='white')\n",
        "for i in mf_ratio.index:\n",
        "    ax.annotate(f\"{int(mf_ratio['Ingenieria Ambiental'][i]*100)}%\", \n",
        "                   xy=(mf_ratio['Ingenieria de sistemas'][i]+mf_ratio['Ingenieria industrial '][i]+mf_ratio['Ingenieria quimica'][i]+mf_ratio['Ingenieria Ambiental'][i]/2, i),\n",
        "                   va = 'center', ha='center',fontsize=20, fontweight='light', fontfamily='serif',\n",
        "                   color='white')\n",
        "    ax.annotate(\"Ingenieria Ambiental\", \n",
        "                   xy=(mf_ratio['Ingenieria de sistemas'][i]+mf_ratio['Ingenieria industrial '][i]+mf_ratio['Ingenieria quimica'][i]+mf_ratio['Ingenieria Ambiental'][i]/2, -0.25),\n",
        "                   va = 'center', ha='center',fontsize=8, fontweight='light', fontfamily='serif',\n",
        "                   color='white')\n",
        "for i in mf_ratio.index:\n",
        "    ax.annotate(f\"{int(mf_ratio['Ingenieria de Sistemas'][i]*100)}%\", \n",
        "                   xy=(mf_ratio['Ingenieria de sistemas'][i]+mf_ratio['Ingenieria industrial '][i]+mf_ratio['Ingenieria quimica'][i]+mf_ratio['Ingenieria Ambiental'][i]+mf_ratio['Ingenieria de Sistemas'][i]/2, i),\n",
        "                   va = 'center', ha='center',fontsize=20, fontweight='light', fontfamily='serif',\n",
        "                   color='white')\n",
        "    ax.annotate(\"Ingenieria de Sistemas\", \n",
        "                   xy=(mf_ratio['Ingenieria de sistemas'][i]+mf_ratio['Ingenieria industrial '][i]+mf_ratio['Ingenieria quimica'][i]+mf_ratio['Ingenieria Ambiental'][i]+mf_ratio['Ingenieria de Sistemas'][i]/2, -0.25),\n",
        "                   va = 'center', ha='center',fontsize=8, fontweight='light', fontfamily='serif',\n",
        "                   color='white')\n"
      ]
    },
    {
      "cell_type": "markdown",
      "source": [],
      "metadata": {
        "id": "JUFSC7NygbWh"
      }
    },
    {
      "cell_type": "code",
      "source": [],
      "metadata": {
        "id": "JLsQdxV5gbho"
      },
      "execution_count": null,
      "outputs": []
    }
  ]
}